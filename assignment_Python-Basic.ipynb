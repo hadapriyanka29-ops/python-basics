{
 "cells": [
  {
   "cell_type": "markdown",
   "metadata": {
    "id": "DWf1kBgQoeWA"
   },
   "source": [
    "1. What is Python, and why is it popular\n",
    "\n",
    "- Python is a high-level, programming language known for its readability and versatility. It's popular due to its large standard library, extensive frameworks, and strong community support, making it suitable for web development, data science, AI, and more.\n",
    "\n"
   ]
  },
  {
   "cell_type": "markdown",
   "metadata": {
    "id": "XYfI54DPqai6"
   },
   "source": [
    "2. What is an interpreter in Python\n",
    "\n",
    "- An interpreter is a program that directly executes code line by line, without requiring it to be compiled into machine code first. Python uses an interpreter.\n",
    "\n"
   ]
  },
  {
   "cell_type": "markdown",
   "metadata": {
    "id": "cTz2aj--qeuk"
   },
   "source": [
    "3. What are pre-defined keywords in Python\n",
    "\n",
    "- Keywords are reserved words in Python that have special meanings and cannot be used as variable names, function names, or any other identifiers. Examples include if, else, for, while, def, class, etc.\n",
    "\n"
   ]
  },
  {
   "cell_type": "markdown",
   "metadata": {
    "id": "fDjYdKnhqjba"
   },
   "source": [
    "4. Can keywords be used as variable names\n",
    "\n",
    "- No, keywords are reserved and cannot be used as variable names.\n",
    "\n"
   ]
  },
  {
   "cell_type": "markdown",
   "metadata": {
    "id": "TyoAaVUhqmMs"
   },
   "source": [
    "5. What is mutability in Python\n",
    "\n",
    "- Mutability refers to the ability of an object to be changed after it is created. Mutable objects can have their state modified in-place.\n",
    "\n"
   ]
  },
  {
   "cell_type": "markdown",
   "metadata": {
    "id": "S5lJcbeTqpOg"
   },
   "source": [
    "6. Why are lists mutable, but tuples are immutable\n",
    "\n",
    "- Lists are mutable because their elements can be added, removed, or changed after creation. Tuples are immutable because their elements cannot be modified after creation.\n",
    "\n"
   ]
  },
  {
   "cell_type": "markdown",
   "metadata": {
    "id": "dJSUS3P1qscq"
   },
   "source": [
    "7. What is the difference between “==” and “is” operators in Python\n",
    "\n",
    "- The == operator checks for equality of values, while the is operator checks if two variables refer to the same object in memory.\n",
    "\n"
   ]
  },
  {
   "cell_type": "markdown",
   "metadata": {
    "id": "zzkxTf8mqvLM"
   },
   "source": [
    "8. What are logical operators in Python\n",
    "\n",
    "- Logical operators are used to combine conditional statements. They are and, or, and not.\n",
    "\n"
   ]
  },
  {
   "cell_type": "markdown",
   "metadata": {
    "id": "tiQhPyMDqy6i"
   },
   "source": [
    "9. What is type casting in Python\n",
    "\n",
    "- Type casting (or type conversion) is the process of converting a value from one data type to another.\n",
    "\n"
   ]
  },
  {
   "cell_type": "markdown",
   "metadata": {
    "id": "SOMHua9Nq2At"
   },
   "source": [
    "10. What is the difference between implicit and explicit type casting\n",
    "\n",
    "- Implicit type casting (coercion) is done automatically by Python when performing operations involving different data types. Explicit type casting is done manually by the programmer using built-in functions like int(), float(), str(), etc.\n",
    "\n"
   ]
  },
  {
   "cell_type": "markdown",
   "metadata": {
    "id": "KFWsyiWEq4Ps"
   },
   "source": [
    "11. What is the purpose of conditional statements in Python\n",
    "\n",
    "- Conditional statements (like if, elif, else) are used to execute different blocks of code based on whether certain conditions are true or false.\n",
    "\n"
   ]
  },
  {
   "cell_type": "markdown",
   "metadata": {
    "id": "jDJh1hbKq644"
   },
   "source": [
    "12. How does the elif statement work\n",
    "\n",
    "- The elif statement (short for 'else if') is used after an if statement to check additional conditions if the initial if condition is false. It allows for multiple conditions to be evaluated sequentially.\n",
    "\n"
   ]
  },
  {
   "cell_type": "markdown",
   "metadata": {
    "id": "uSh_oOVvq9rQ"
   },
   "source": [
    "13. What is the difference between for and while loops\n",
    "\n",
    "- for loops are typically used to iterate over a sequence (like a list, tuple, or string) or a range of numbers. while loops are used to repeatedly execute a block of code as long as a given condition is true.\n",
    "\n"
   ]
  },
  {
   "cell_type": "markdown",
   "metadata": {
    "id": "qb3uutPMrAGh"
   },
   "source": [
    "14. Describe a scenario where a while loop is more suitable than a for loop.\n",
    "\n",
    "- A while loop is more suitable when the number of iterations is not known in advance, and the loop should continue as long as a certain condition remains true. For example, reading data from a file until the end of the file is reached.\n",
    "\n"
   ]
  },
  {
   "cell_type": "code",
   "execution_count": null,
   "metadata": {
    "id": "GhYvzbrRrE7x"
   },
   "outputs": [],
   "source": [
    "# 1. Write a Python program to print \"Hello, World!\n",
    "\n",
    "print (\"Hello, World!\")\n"
   ]
  },
  {
   "cell_type": "code",
   "execution_count": null,
   "metadata": {
    "id": "5E7bbt8prH8j"
   },
   "outputs": [],
   "source": [
    "# 2. Write a Python program that displays your name and age\n",
    "\n",
    "name = \"KHUSH\"\n",
    "age = 25\n",
    "print(f\"My name is {name} and I am {age} years old.\")\n",
    "\n"
   ]
  },
  {
   "cell_type": "code",
   "execution_count": null,
   "metadata": {
    "colab": {
     "base_uri": "https://localhost:8080/"
    },
    "executionInfo": {
     "elapsed": 45,
     "status": "ok",
     "timestamp": 1754237623064,
     "user": {
      "displayName": "Vik Gupta",
      "userId": "12447337050913590380"
     },
     "user_tz": -330
    },
    "id": "mQ94vf9_rKUq",
    "outputId": "ac2bc209-c5be-499f-c87e-c6e716637672"
   },
   "outputs": [
    {
     "name": "stdout",
     "output_type": "stream",
     "text": [
      "\n",
      "Here is a list of the Python keywords.  Enter any keyword to get more help.\n",
      "\n",
      "False               class               from                or\n",
      "None                continue            global              pass\n",
      "True                def                 if                  raise\n",
      "and                 del                 import              return\n",
      "as                  elif                in                  try\n",
      "assert              else                is                  while\n",
      "async               except              lambda              with\n",
      "await               finally             nonlocal            yield\n",
      "break               for                 not                 \n",
      "\n"
     ]
    }
   ],
   "source": [
    "# 3. Write code to print all the pre-defined keywords in Python using the keyword library\n",
    "\n",
    "\n",
    "help('keywords')"
   ]
  },
  {
   "cell_type": "code",
   "execution_count": null,
   "metadata": {
    "colab": {
     "base_uri": "https://localhost:8080/"
    },
    "executionInfo": {
     "elapsed": 8,
     "status": "ok",
     "timestamp": 1754237744593,
     "user": {
      "displayName": "Vik Gupta",
      "userId": "12447337050913590380"
     },
     "user_tz": -330
    },
    "id": "5fB4onG6rMiG",
    "outputId": "6588c747-793c-4fc6-92c9-585852b1ba67"
   },
   "outputs": [
    {
     "name": "stdout",
     "output_type": "stream",
     "text": [
      "assert is a Python keyword.\n"
     ]
    }
   ],
   "source": [
    "# 4. Write a program that checks if a given word is a Python keyword.\n",
    "\n",
    "import keyword\n",
    "\n",
    "word = \"assert\"\n",
    "\n",
    "if keyword.iskeyword(word):\n",
    "  print(f\"{word} is a Python keyword.\")\n",
    "\n",
    "else: print(f\"{word} is not a Python keyword.\")\n",
    "\n"
   ]
  },
  {
   "cell_type": "code",
   "execution_count": null,
   "metadata": {
    "colab": {
     "base_uri": "https://localhost:8080/"
    },
    "executionInfo": {
     "elapsed": 6,
     "status": "ok",
     "timestamp": 1754238138603,
     "user": {
      "displayName": "Vik Gupta",
      "userId": "12447337050913590380"
     },
     "user_tz": -330
    },
    "id": "7JmbWCz4rO8Y",
    "outputId": "1e3339fe-e139-42d3-f998-4465d9f8a906"
   },
   "outputs": [
    {
     "name": "stdout",
     "output_type": "stream",
     "text": [
      "Modified list: ['D', 'B', 'C']\n",
      "Error attempting to change tuple element: 'tuple' object does not support item assignment\n"
     ]
    }
   ],
   "source": [
    "#5. Create a list and tuple in Python, and demonstrate how attempting to change an element works differently for each.\n",
    "\n",
    "my_list = ['A', 'B', 'C']\n",
    "\n",
    "my_tuple = ('X', 'Y', 'Z')\n",
    "\n",
    "# Attempt to change list element\n",
    "my_list[0] = 'D'\n",
    "\n",
    "print(f\"Modified list: {my_list}\")\n",
    "\n",
    "# Attempt to change tuple element (will raise a TypeError)\n",
    "try:\n",
    "  my_tuple[0] = 'X'\n",
    "\n",
    "except TypeError as e:\n",
    "  print(f\"Error attempting to change tuple element: {e}\")"
   ]
  },
  {
   "cell_type": "code",
   "execution_count": null,
   "metadata": {
    "colab": {
     "base_uri": "https://localhost:8080/"
    },
    "executionInfo": {
     "elapsed": 28,
     "status": "ok",
     "timestamp": 1754238225218,
     "user": {
      "displayName": "Vik Gupta",
      "userId": "12447337050913590380"
     },
     "user_tz": -330
    },
    "id": "LiQS4DAcrSK9",
    "outputId": "67be122a-837a-47cf-f2b4-dd83929531fa"
   },
   "outputs": [
    {
     "name": "stdout",
     "output_type": "stream",
     "text": [
      "Inside function (mutable): [1, 2, 3, 4]\n",
      "Outside function (mutable): [1, 2, 3, 4]\n",
      "Inside function (immutable): 11\n",
      "Outside function (immutable): 10\n"
     ]
    }
   ],
   "source": [
    "# 6. Write a function to demonstrate the behavior of mutable and immutable arguments.\n",
    "\n",
    "def modify_mutable(my_list):\n",
    "  my_list.append(4)\n",
    "  print(f\"Inside function (mutable): {my_list}\")\n",
    "\n",
    "def modify_immutable(my_int):\n",
    "  my_int += 1\n",
    "  print(f\"Inside function (immutable): {my_int}\")\n",
    "\n",
    "mutable_var = [1, 2, 3]\n",
    "immutable_var = 10\n",
    "\n",
    "modify_mutable(mutable_var)\n",
    "print(f\"Outside function (mutable): {mutable_var}\")\n",
    "\n",
    "modify_immutable(immutable_var)\n",
    "print(f\"Outside function (immutable): {immutable_var}\")\n",
    "\n"
   ]
  },
  {
   "cell_type": "code",
   "execution_count": null,
   "metadata": {
    "colab": {
     "base_uri": "https://localhost:8080/"
    },
    "executionInfo": {
     "elapsed": 4250,
     "status": "ok",
     "timestamp": 1754238893675,
     "user": {
      "displayName": "Vik Gupta",
      "userId": "12447337050913590380"
     },
     "user_tz": -330
    },
    "id": "beh7nH2nrWMp",
    "outputId": "3b4aa1d9-f219-4f39-9a82-4e0c74a8aaa3"
   },
   "outputs": [
    {
     "name": "stdout",
     "output_type": "stream",
     "text": [
      "Enter first number: 5\n",
      "Enter second number: 8\n",
      "Total of two number is 13.0\n"
     ]
    }
   ],
   "source": [
    "# 7. Write a program that performs basic arithmetic operations on two user-input numbers.\n",
    "\n",
    "num1 = float(input(\"Enter first number: \"))\n",
    "num2 = float(input(\"Enter second number: \"))\n",
    "\n",
    "total_num = num1 + num2\n",
    "print(\"Total of two number is\" , total_num)\n",
    "\n"
   ]
  },
  {
   "cell_type": "code",
   "execution_count": null,
   "metadata": {
    "colab": {
     "base_uri": "https://localhost:8080/"
    },
    "executionInfo": {
     "elapsed": 54,
     "status": "ok",
     "timestamp": 1754239332630,
     "user": {
      "displayName": "Vik Gupta",
      "userId": "12447337050913590380"
     },
     "user_tz": -330
    },
    "id": "89_LG_CSrY6M",
    "outputId": "3e5c69fd-eda6-4409-8e1f-23cd4e68dac3"
   },
   "outputs": [
    {
     "name": "stdout",
     "output_type": "stream",
     "text": [
      "x > 0 and y > 0: True\n",
      "x > 0 or y < 5: True\n",
      "not (x > 0 and y > 0): False\n"
     ]
    }
   ],
   "source": [
    "# 8. Write a program to demonstrate the use of logical operators.\n",
    "\n",
    "x = 5\n",
    "y = 10\n",
    "\n",
    "print(f\"x > 0 and y > 0: {x > 0 and y > 0}\")\n",
    "print(f\"x > 0 or y < 5: {x > 0 or y < 5}\")\n",
    "print(f\"not (x > 0 and y > 0): {not (x > 0 and y > 0)}\")\n",
    "\n"
   ]
  },
  {
   "cell_type": "code",
   "execution_count": null,
   "metadata": {
    "colab": {
     "base_uri": "https://localhost:8080/"
    },
    "executionInfo": {
     "elapsed": 5551,
     "status": "ok",
     "timestamp": 1754240466709,
     "user": {
      "displayName": "Vik Gupta",
      "userId": "12447337050913590380"
     },
     "user_tz": -330
    },
    "id": "yt5_UOoOra64",
    "outputId": "d8067fef-c024-4708-b8e7-296498a93566"
   },
   "outputs": [
    {
     "name": "stdout",
     "output_type": "stream",
     "text": [
      "Enter a value: 6\n",
      "Integer conversion: 6\n",
      "Float conversion: 6.0\n",
      "Boolean conversion: False\n"
     ]
    }
   ],
   "source": [
    "# 9. Write a Python program to convert user input from string to integer, float, and boolean types.\n",
    "\n",
    "user_input = input(\"Enter a value: \")\n",
    "\n",
    "try:\n",
    "    int_value = int(user_input)\n",
    "    print(f\"Integer conversion: {int_value}\")\n",
    "except ValueError:\n",
    "    print(\"Could not convert to integer.\")\n",
    "\n",
    "try:\n",
    "    float_value = float(user_input)\n",
    "    print(f\"Float conversion: {float_value}\")\n",
    "except ValueError:\n",
    "    print(\"Could not convert to float.\")\n",
    "\n",
    "# Simple boolean conversion (checks for common true/false strings)\n",
    "bool_value = user_input.lower() in ['true', 'yes', '1']\n",
    "print(f\"Boolean conversion: {bool_value}\")\n",
    "\n",
    "\n"
   ]
  },
  {
   "cell_type": "code",
   "execution_count": null,
   "metadata": {
    "colab": {
     "base_uri": "https://localhost:8080/",
     "height": 0
    },
    "executionInfo": {
     "elapsed": 28,
     "status": "ok",
     "timestamp": 1754591559601,
     "user": {
      "displayName": "Vik Gupta",
      "userId": "12447337050913590380"
     },
     "user_tz": -330
    },
    "id": "wTKy3huBree7",
    "outputId": "2ae44f91-ff61-4cf0-ba24-aa01325a43e2"
   },
   "outputs": [
    {
     "name": "stdout",
     "output_type": "stream",
     "text": [
      "List after converting first two elements to int: [1, 2]\n",
      "List after converting all elements to float: [1.0, 2.0, 3.5, 4.0]\n"
     ]
    }
   ],
   "source": [
    "# 10. Write code to demonstrate type casting with list elements.\n",
    "\n",
    "my_list = [\"1\", \"2\", \"3.5\", \"4\"]\n",
    "\n",
    "# Convert list elements to integers\n",
    "# The original attempt had a syntax error with slicing and an extra colon\n",
    "# We will convert the first two elements to integers\n",
    "int_list = [int(x) for x in my_list[:2]]\n",
    "print(f\"List after converting first two elements to int: {int_list}\")\n",
    "\n",
    "# Convert list elements to floats\n",
    "float_list = [float(x) for x in my_list]\n",
    "print(f\"List after converting all elements to float: {float_list}\")"
   ]
  },
  {
   "cell_type": "code",
   "execution_count": null,
   "metadata": {
    "colab": {
     "base_uri": "https://localhost:8080/"
    },
    "executionInfo": {
     "elapsed": 2467,
     "status": "ok",
     "timestamp": 1754240769401,
     "user": {
      "displayName": "Vik Gupta",
      "userId": "12447337050913590380"
     },
     "user_tz": -330
    },
    "id": "mHMfMCqcrh6e",
    "outputId": "a78d331f-d743-4641-a9ee-07cd23d6d093"
   },
   "outputs": [
    {
     "name": "stdout",
     "output_type": "stream",
     "text": [
      "Enter a number: 7\n",
      "The number is positive.\n"
     ]
    }
   ],
   "source": [
    "# 11. Write a program that checks if a number is positive, negative, or zero.\n",
    "\n",
    "number = float(input(\"Enter a number: \"))\n",
    "\n",
    "if number > 0:\n",
    "  print(\"The number is positive.\")\n",
    "\n",
    "elif number < 0:\n",
    "  print(\"The number is negative.\")\n",
    "\n",
    "else:\n",
    "  print(\"The number is zero.\")\n",
    "\n"
   ]
  },
  {
   "cell_type": "code",
   "execution_count": null,
   "metadata": {
    "colab": {
     "base_uri": "https://localhost:8080/"
    },
    "executionInfo": {
     "elapsed": 53,
     "status": "ok",
     "timestamp": 1754240799210,
     "user": {
      "displayName": "Vik Gupta",
      "userId": "12447337050913590380"
     },
     "user_tz": -330
    },
    "id": "WiGWtOiJrpsg",
    "outputId": "5298565b-d4b9-4c8b-8e74-ededcb78d92f"
   },
   "outputs": [
    {
     "name": "stdout",
     "output_type": "stream",
     "text": [
      "1\n",
      "2\n",
      "3\n",
      "4\n",
      "5\n",
      "6\n",
      "7\n",
      "8\n",
      "9\n",
      "10\n"
     ]
    }
   ],
   "source": [
    "# 12. Write a for loop to print numbers from 1 to 10.\n",
    "\n",
    "for i in range(1, 11):\n",
    "  print(i)\n",
    "\n"
   ]
  },
  {
   "cell_type": "code",
   "execution_count": null,
   "metadata": {
    "colab": {
     "base_uri": "https://localhost:8080/"
    },
    "executionInfo": {
     "elapsed": 9,
     "status": "ok",
     "timestamp": 1754240814172,
     "user": {
      "displayName": "Vik Gupta",
      "userId": "12447337050913590380"
     },
     "user_tz": -330
    },
    "id": "HppgnsYArr5r",
    "outputId": "7943de01-750b-4013-8439-d496f69c8a76"
   },
   "outputs": [
    {
     "name": "stdout",
     "output_type": "stream",
     "text": [
      "The sum of even numbers between 1 and 50 is: 650\n"
     ]
    }
   ],
   "source": [
    "# 13. Write a Python program to find the sum of all even numbers between 1 and 50.\n",
    "\n",
    "sum_even = 0\n",
    "for i in range(2, 51, 2):\n",
    "    sum_even += i\n",
    "print(f\"The sum of even numbers between 1 and 50 is: {sum_even}\")\n",
    "\n",
    "\n"
   ]
  },
  {
   "cell_type": "code",
   "execution_count": null,
   "metadata": {
    "colab": {
     "base_uri": "https://localhost:8080/"
    },
    "executionInfo": {
     "elapsed": 36,
     "status": "ok",
     "timestamp": 1754240858028,
     "user": {
      "displayName": "Vik Gupta",
      "userId": "12447337050913590380"
     },
     "user_tz": -330
    },
    "id": "U6vMG0Xart4P",
    "outputId": "fb5ce2e9-a29c-4048-ddc8-57d1fc6b1c17"
   },
   "outputs": [
    {
     "name": "stdout",
     "output_type": "stream",
     "text": [
      "Original string: hello\n",
      "Reversed string: olleh\n"
     ]
    }
   ],
   "source": [
    "# 14. Write a program to reverse a string using a while loop.\n",
    "\n",
    "input_string = \"hello\"\n",
    "reversed_string = \"\"\n",
    "index = len(input_string) - 1\n",
    "\n",
    "while index >= 0:\n",
    "  reversed_string += input_string[index]\n",
    "  index -= 1\n",
    "\n",
    "print(f\"Original string: {input_string}\")\n",
    "print(f\"Reversed string: {reversed_string}\")\n",
    "\n"
   ]
  },
  {
   "cell_type": "code",
   "execution_count": null,
   "metadata": {
    "colab": {
     "base_uri": "https://localhost:8080/"
    },
    "executionInfo": {
     "elapsed": 4092,
     "status": "ok",
     "timestamp": 1754240900011,
     "user": {
      "displayName": "Vik Gupta",
      "userId": "12447337050913590380"
     },
     "user_tz": -330
    },
    "id": "dnFOqZsJrw6U",
    "outputId": "2b0058fb-22fe-41f2-bf6f-ce61c0275174"
   },
   "outputs": [
    {
     "name": "stdout",
     "output_type": "stream",
     "text": [
      "Enter a non-negative integer: 7\n",
      "The factorial of 7 is 5040.\n"
     ]
    }
   ],
   "source": [
    "]# 15. Write a Python program to calculate the factorial of a number provided by the user using a while loop.\n",
    "\n",
    "num = int(input(\"Enter a non-negative integer: \"))\n",
    "\n",
    "if num < 0:\n",
    "    print(\"Factorial is not defined for negative numbers.\")\n",
    "elif num == 0:\n",
    "    print(\"The factorial of 0 is 1.\")\n",
    "else:\n",
    "    factorial = 1\n",
    "    i = 1\n",
    "    while i <= num:\n",
    "        factorial *= i\n",
    "        i += 1\n",
    "    print(f\"The factorial of {num} is {factorial}.\")"
   ]
  },
  {
   "cell_type": "code",
   "execution_count": null,
   "metadata": {},
   "outputs": [],
   "source": []
  }
 ],
 "metadata": {
  "colab": {
   "authorship_tag": "ABX9TyMMQUaTTPJjSF0fb2pcvJe1",
   "provenance": []
  },
  "kernelspec": {
   "display_name": "Python 3",
   "name": "python3"
  },
  "language_info": {
   "name": "python"
  }
 },
 "nbformat": 4,
 "nbformat_minor": 0
}
